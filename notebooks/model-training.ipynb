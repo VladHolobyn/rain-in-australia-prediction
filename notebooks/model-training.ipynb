{
 "cells": [
  {
   "cell_type": "markdown",
   "metadata": {},
   "source": [
    "# Importing modules and dataset"
   ]
  },
  {
   "cell_type": "code",
   "execution_count": 1,
   "metadata": {
    "ExecuteTime": {
     "end_time": "2023-12-19T15:20:19.553410200Z",
     "start_time": "2023-12-19T15:20:18.278610300Z"
    }
   },
   "outputs": [],
   "source": [
    "import os\n",
    "import sys\n",
    "module_path = os.path.abspath(os.path.join('..'))\n",
    "if module_path not in sys.path:\n",
    "    sys.path.append(module_path)\n",
    "\n",
    "import pandas as pd\n",
    "\n",
    "\n",
    "df = pd.read_csv('../data/preprocessed_data.csv')"
   ]
  },
  {
   "cell_type": "markdown",
   "metadata": {},
   "source": [
    "# Splitting"
   ]
  },
  {
   "cell_type": "code",
   "execution_count": 2,
   "metadata": {
    "ExecuteTime": {
     "end_time": "2023-12-19T15:20:19.937826500Z",
     "start_time": "2023-12-19T15:20:19.556411500Z"
    }
   },
   "outputs": [],
   "source": [
    "from model.utils import train_test_split\n",
    "\n",
    "X = df.drop('RainTomorrow', axis=1).values\n",
    "y = df['RainTomorrow']"
   ]
  },
  {
   "cell_type": "markdown",
   "metadata": {},
   "source": [
    "# Handling imbalanced classes"
   ]
  },
  {
   "cell_type": "code",
   "execution_count": 3,
   "metadata": {},
   "outputs": [],
   "source": [
    "from imblearn.combine import SMOTEENN\n",
    "\n",
    "smote_enn = SMOTEENN()\n",
    "X_resampled, y_resampled = smote_enn.fit_resample(X, y)\n",
    "\n",
    "X_train, X_test, y_train, y_test = train_test_split(X_resampled, y_resampled, test_size=0.3, random_state=2)"
   ]
  },
  {
   "cell_type": "markdown",
   "metadata": {},
   "source": [
    "# Training"
   ]
  },
  {
   "cell_type": "code",
   "execution_count": 4,
   "metadata": {
    "ExecuteTime": {
     "end_time": "2023-12-19T15:20:30.103071100Z",
     "start_time": "2023-12-19T15:20:19.939828Z"
    }
   },
   "outputs": [],
   "source": [
    "from model.logistic_regression import LogisticRegression\n",
    "\n",
    "model = LogisticRegression(lr=0.1, n_iters=1000)\n",
    "\n",
    "model.fit(X_train, y_train)\n",
    "\n",
    "y_pred = model.predict(X_test)"
   ]
  },
  {
   "cell_type": "markdown",
   "metadata": {},
   "source": [
    "# Evaluation"
   ]
  },
  {
   "cell_type": "code",
   "execution_count": 5,
   "metadata": {
    "ExecuteTime": {
     "end_time": "2023-12-19T15:20:30.391877900Z",
     "start_time": "2023-12-19T15:20:30.110076400Z"
    }
   },
   "outputs": [
    {
     "data": {
      "image/png": "[encoded data removed]",
      "text/plain": [
       "<Figure size 640x480 with 2 Axes>"
      ]
     },
     "metadata": {},
     "output_type": "display_data"
    }
   ],
   "source": [
    "from model.metrics import ConfusionMatrix\n",
    "\n",
    "cf = ConfusionMatrix(y_test, y_pred)\n",
    "cf.print()"
   ]
  },
  {
   "cell_type": "code",
   "execution_count": 6,
   "metadata": {
    "ExecuteTime": {
     "end_time": "2023-12-19T15:20:30.408888400Z",
     "start_time": "2023-12-19T15:20:30.388878Z"
    }
   },
   "outputs": [
    {
     "name": "stdout",
     "output_type": "stream",
     "text": [
      "\t precission \t recall \t f1\n",
      "0:\t 0.83 \t\t 0.82 \t\t 0.82\n",
      "1:\t 0.88 \t\t 0.88 \t\t 0.88\n",
      "\n",
      "Accuracy: 0.85745325519276\n"
     ]
    }
   ],
   "source": [
    "from model.metrics import Metrics\n",
    "\n",
    "accuracy = Metrics.accuracy(cf)\n",
    "precission = Metrics.precission(cf)\n",
    "recall = Metrics.recall(cf)\n",
    "f1 = Metrics.f1(cf)\n",
    "\n",
    "\n",
    "print('\\t precission \\t recall \\t f1')\n",
    "print(f'0:\\t {precission[0]:.2f} \\t\\t {recall[0]:.2f} \\t\\t {f1[0]:.2f}')\n",
    "print(f'1:\\t {precission[1]:.2f} \\t\\t {recall[1]:.2f} \\t\\t {f1[1]:.2f}')\n",
    "print(f'\\nAccuracy: {accuracy}')\n"
   ]
  },
  {
   "cell_type": "markdown",
   "metadata": {},
   "source": [
    "# Exporting the model"
   ]
  },
  {
   "cell_type": "code",
   "execution_count": 7,
   "metadata": {
    "ExecuteTime": {
     "end_time": "2023-12-19T15:20:30.408888400Z",
     "start_time": "2023-12-19T15:20:30.401650900Z"
    }
   },
   "outputs": [],
   "source": [
    "import pickle\n",
    "\n",
    "pickle.dump(model, open('../pkl/model.pkl', 'wb'))"
   ]
  }
 ],
 "metadata": {
  "kernelspec": {
   "display_name": "Python 3",
   "language": "python",
   "name": "python3"
  },
  "language_info": {
   "codemirror_mode": {
    "name": "ipython",
    "version": 3
   },
   "file_extension": ".py",
   "mimetype": "text/x-python",
   "name": "python",
   "nbconvert_exporter": "python",
   "pygments_lexer": "ipython3",
   "version": "3.10.11"
  }
 },
 "nbformat": 4,
 "nbformat_minor": 2
}
